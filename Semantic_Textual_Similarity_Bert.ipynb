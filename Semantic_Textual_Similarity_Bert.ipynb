{
  "nbformat": 4,
  "nbformat_minor": 0,
  "metadata": {
    "accelerator": "GPU",
    "colab": {
      "name": "Semantic Textual Similarity - Bert.ipynb",
      "provenance": [],
      "collapsed_sections": []
    },
    "kernelspec": {
      "display_name": "Python 3",
      "name": "python3"
    },
    "widgets": {
      "application/vnd.jupyter.widget-state+json": {
        "3dc49290081b47b9b7334486adff1763": {
          "model_module": "@jupyter-widgets/controls",
          "model_name": "HBoxModel",
          "state": {
            "_dom_classes": [],
            "_model_module": "@jupyter-widgets/controls",
            "_model_module_version": "1.5.0",
            "_model_name": "HBoxModel",
            "_view_count": null,
            "_view_module": "@jupyter-widgets/controls",
            "_view_module_version": "1.5.0",
            "_view_name": "HBoxView",
            "box_style": "",
            "children": [
              "IPY_MODEL_4884e2aa4cb04efe8948f0d4aa525c6e",
              "IPY_MODEL_c4d630116fbb4bb6a3a3616e68dc01f0"
            ],
            "layout": "IPY_MODEL_b1386b4b6ce24fedb001578c4d3f5b66"
          }
        },
        "4884e2aa4cb04efe8948f0d4aa525c6e": {
          "model_module": "@jupyter-widgets/controls",
          "model_name": "FloatProgressModel",
          "state": {
            "_dom_classes": [],
            "_model_module": "@jupyter-widgets/controls",
            "_model_module_version": "1.5.0",
            "_model_name": "FloatProgressModel",
            "_view_count": null,
            "_view_module": "@jupyter-widgets/controls",
            "_view_module_version": "1.5.0",
            "_view_name": "ProgressView",
            "bar_style": "success",
            "description": "Downloading: 100%",
            "description_tooltip": null,
            "layout": "IPY_MODEL_e2a9213acd144f959c718e88113c6d3f",
            "max": 231508,
            "min": 0,
            "orientation": "horizontal",
            "style": "IPY_MODEL_c66fb21924584aea8644269d8398da7a",
            "value": 231508
          }
        },
        "c4d630116fbb4bb6a3a3616e68dc01f0": {
          "model_module": "@jupyter-widgets/controls",
          "model_name": "HTMLModel",
          "state": {
            "_dom_classes": [],
            "_model_module": "@jupyter-widgets/controls",
            "_model_module_version": "1.5.0",
            "_model_name": "HTMLModel",
            "_view_count": null,
            "_view_module": "@jupyter-widgets/controls",
            "_view_module_version": "1.5.0",
            "_view_name": "HTMLView",
            "description": "",
            "description_tooltip": null,
            "layout": "IPY_MODEL_adde027890454551bd19f55c29514043",
            "placeholder": "​",
            "style": "IPY_MODEL_eeb28a188c564d67b76c8a81eae09e19",
            "value": " 232k/232k [00:00&lt;00:00, 3.40MB/s]"
          }
        },
        "b1386b4b6ce24fedb001578c4d3f5b66": {
          "model_module": "@jupyter-widgets/base",
          "model_name": "LayoutModel",
          "state": {
            "_model_module": "@jupyter-widgets/base",
            "_model_module_version": "1.2.0",
            "_model_name": "LayoutModel",
            "_view_count": null,
            "_view_module": "@jupyter-widgets/base",
            "_view_module_version": "1.2.0",
            "_view_name": "LayoutView",
            "align_content": null,
            "align_items": null,
            "align_self": null,
            "border": null,
            "bottom": null,
            "display": null,
            "flex": null,
            "flex_flow": null,
            "grid_area": null,
            "grid_auto_columns": null,
            "grid_auto_flow": null,
            "grid_auto_rows": null,
            "grid_column": null,
            "grid_gap": null,
            "grid_row": null,
            "grid_template_areas": null,
            "grid_template_columns": null,
            "grid_template_rows": null,
            "height": null,
            "justify_content": null,
            "justify_items": null,
            "left": null,
            "margin": null,
            "max_height": null,
            "max_width": null,
            "min_height": null,
            "min_width": null,
            "object_fit": null,
            "object_position": null,
            "order": null,
            "overflow": null,
            "overflow_x": null,
            "overflow_y": null,
            "padding": null,
            "right": null,
            "top": null,
            "visibility": null,
            "width": null
          }
        },
        "e2a9213acd144f959c718e88113c6d3f": {
          "model_module": "@jupyter-widgets/base",
          "model_name": "LayoutModel",
          "state": {
            "_model_module": "@jupyter-widgets/base",
            "_model_module_version": "1.2.0",
            "_model_name": "LayoutModel",
            "_view_count": null,
            "_view_module": "@jupyter-widgets/base",
            "_view_module_version": "1.2.0",
            "_view_name": "LayoutView",
            "align_content": null,
            "align_items": null,
            "align_self": null,
            "border": null,
            "bottom": null,
            "display": null,
            "flex": null,
            "flex_flow": null,
            "grid_area": null,
            "grid_auto_columns": null,
            "grid_auto_flow": null,
            "grid_auto_rows": null,
            "grid_column": null,
            "grid_gap": null,
            "grid_row": null,
            "grid_template_areas": null,
            "grid_template_columns": null,
            "grid_template_rows": null,
            "height": null,
            "justify_content": null,
            "justify_items": null,
            "left": null,
            "margin": null,
            "max_height": null,
            "max_width": null,
            "min_height": null,
            "min_width": null,
            "object_fit": null,
            "object_position": null,
            "order": null,
            "overflow": null,
            "overflow_x": null,
            "overflow_y": null,
            "padding": null,
            "right": null,
            "top": null,
            "visibility": null,
            "width": null
          }
        },
        "c66fb21924584aea8644269d8398da7a": {
          "model_module": "@jupyter-widgets/controls",
          "model_name": "ProgressStyleModel",
          "state": {
            "_model_module": "@jupyter-widgets/controls",
            "_model_module_version": "1.5.0",
            "_model_name": "ProgressStyleModel",
            "_view_count": null,
            "_view_module": "@jupyter-widgets/base",
            "_view_module_version": "1.2.0",
            "_view_name": "StyleView",
            "bar_color": null,
            "description_width": "initial"
          }
        },
        "adde027890454551bd19f55c29514043": {
          "model_module": "@jupyter-widgets/base",
          "model_name": "LayoutModel",
          "state": {
            "_model_module": "@jupyter-widgets/base",
            "_model_module_version": "1.2.0",
            "_model_name": "LayoutModel",
            "_view_count": null,
            "_view_module": "@jupyter-widgets/base",
            "_view_module_version": "1.2.0",
            "_view_name": "LayoutView",
            "align_content": null,
            "align_items": null,
            "align_self": null,
            "border": null,
            "bottom": null,
            "display": null,
            "flex": null,
            "flex_flow": null,
            "grid_area": null,
            "grid_auto_columns": null,
            "grid_auto_flow": null,
            "grid_auto_rows": null,
            "grid_column": null,
            "grid_gap": null,
            "grid_row": null,
            "grid_template_areas": null,
            "grid_template_columns": null,
            "grid_template_rows": null,
            "height": null,
            "justify_content": null,
            "justify_items": null,
            "left": null,
            "margin": null,
            "max_height": null,
            "max_width": null,
            "min_height": null,
            "min_width": null,
            "object_fit": null,
            "object_position": null,
            "order": null,
            "overflow": null,
            "overflow_x": null,
            "overflow_y": null,
            "padding": null,
            "right": null,
            "top": null,
            "visibility": null,
            "width": null
          }
        },
        "eeb28a188c564d67b76c8a81eae09e19": {
          "model_module": "@jupyter-widgets/controls",
          "model_name": "DescriptionStyleModel",
          "state": {
            "_model_module": "@jupyter-widgets/controls",
            "_model_module_version": "1.5.0",
            "_model_name": "DescriptionStyleModel",
            "_view_count": null,
            "_view_module": "@jupyter-widgets/base",
            "_view_module_version": "1.2.0",
            "_view_name": "StyleView",
            "description_width": ""
          }
        }
      }
    }
  },
  "cells": [
    {
      "cell_type": "code",
      "metadata": {
        "colab": {
          "base_uri": "https://localhost:8080/"
        },
        "id": "8aELY6tRV3qE",
        "outputId": "b9efd731-18e4-4b39-df6e-030ed2a14f2d"
      },
      "source": [
        "!pip install transformers==2.11.0"
      ],
      "execution_count": null,
      "outputs": [
        {
          "output_type": "stream",
          "text": [
            "Collecting transformers==2.11.0\n",
            "\u001b[?25l  Downloading https://files.pythonhosted.org/packages/48/35/ad2c5b1b8f99feaaf9d7cdadaeef261f098c6e1a6a2935d4d07662a6b780/transformers-2.11.0-py3-none-any.whl (674kB)\n",
            "\r\u001b[K     |▌                               | 10kB 20.9MB/s eta 0:00:01\r\u001b[K     |█                               | 20kB 27.3MB/s eta 0:00:01\r\u001b[K     |█▌                              | 30kB 26.7MB/s eta 0:00:01\r\u001b[K     |██                              | 40kB 22.0MB/s eta 0:00:01\r\u001b[K     |██▍                             | 51kB 23.8MB/s eta 0:00:01\r\u001b[K     |███                             | 61kB 16.6MB/s eta 0:00:01\r\u001b[K     |███▍                            | 71kB 17.4MB/s eta 0:00:01\r\u001b[K     |███▉                            | 81kB 18.1MB/s eta 0:00:01\r\u001b[K     |████▍                           | 92kB 15.9MB/s eta 0:00:01\r\u001b[K     |████▉                           | 102kB 17.1MB/s eta 0:00:01\r\u001b[K     |█████▍                          | 112kB 17.1MB/s eta 0:00:01\r\u001b[K     |█████▉                          | 122kB 17.1MB/s eta 0:00:01\r\u001b[K     |██████▎                         | 133kB 17.1MB/s eta 0:00:01\r\u001b[K     |██████▉                         | 143kB 17.1MB/s eta 0:00:01\r\u001b[K     |███████▎                        | 153kB 17.1MB/s eta 0:00:01\r\u001b[K     |███████▊                        | 163kB 17.1MB/s eta 0:00:01\r\u001b[K     |████████▎                       | 174kB 17.1MB/s eta 0:00:01\r\u001b[K     |████████▊                       | 184kB 17.1MB/s eta 0:00:01\r\u001b[K     |█████████▎                      | 194kB 17.1MB/s eta 0:00:01\r\u001b[K     |█████████▊                      | 204kB 17.1MB/s eta 0:00:01\r\u001b[K     |██████████▏                     | 215kB 17.1MB/s eta 0:00:01\r\u001b[K     |██████████▊                     | 225kB 17.1MB/s eta 0:00:01\r\u001b[K     |███████████▏                    | 235kB 17.1MB/s eta 0:00:01\r\u001b[K     |███████████▋                    | 245kB 17.1MB/s eta 0:00:01\r\u001b[K     |████████████▏                   | 256kB 17.1MB/s eta 0:00:01\r\u001b[K     |████████████▋                   | 266kB 17.1MB/s eta 0:00:01\r\u001b[K     |█████████████                   | 276kB 17.1MB/s eta 0:00:01\r\u001b[K     |█████████████▋                  | 286kB 17.1MB/s eta 0:00:01\r\u001b[K     |██████████████                  | 296kB 17.1MB/s eta 0:00:01\r\u001b[K     |██████████████▋                 | 307kB 17.1MB/s eta 0:00:01\r\u001b[K     |███████████████                 | 317kB 17.1MB/s eta 0:00:01\r\u001b[K     |███████████████▌                | 327kB 17.1MB/s eta 0:00:01\r\u001b[K     |████████████████                | 337kB 17.1MB/s eta 0:00:01\r\u001b[K     |████████████████▌               | 348kB 17.1MB/s eta 0:00:01\r\u001b[K     |█████████████████               | 358kB 17.1MB/s eta 0:00:01\r\u001b[K     |█████████████████▌              | 368kB 17.1MB/s eta 0:00:01\r\u001b[K     |██████████████████              | 378kB 17.1MB/s eta 0:00:01\r\u001b[K     |██████████████████▌             | 389kB 17.1MB/s eta 0:00:01\r\u001b[K     |███████████████████             | 399kB 17.1MB/s eta 0:00:01\r\u001b[K     |███████████████████▍            | 409kB 17.1MB/s eta 0:00:01\r\u001b[K     |████████████████████            | 419kB 17.1MB/s eta 0:00:01\r\u001b[K     |████████████████████▍           | 430kB 17.1MB/s eta 0:00:01\r\u001b[K     |████████████████████▉           | 440kB 17.1MB/s eta 0:00:01\r\u001b[K     |█████████████████████▍          | 450kB 17.1MB/s eta 0:00:01\r\u001b[K     |█████████████████████▉          | 460kB 17.1MB/s eta 0:00:01\r\u001b[K     |██████████████████████▍         | 471kB 17.1MB/s eta 0:00:01\r\u001b[K     |██████████████████████▉         | 481kB 17.1MB/s eta 0:00:01\r\u001b[K     |███████████████████████▎        | 491kB 17.1MB/s eta 0:00:01\r\u001b[K     |███████████████████████▉        | 501kB 17.1MB/s eta 0:00:01\r\u001b[K     |████████████████████████▎       | 512kB 17.1MB/s eta 0:00:01\r\u001b[K     |████████████████████████▊       | 522kB 17.1MB/s eta 0:00:01\r\u001b[K     |█████████████████████████▎      | 532kB 17.1MB/s eta 0:00:01\r\u001b[K     |█████████████████████████▊      | 542kB 17.1MB/s eta 0:00:01\r\u001b[K     |██████████████████████████▏     | 552kB 17.1MB/s eta 0:00:01\r\u001b[K     |██████████████████████████▊     | 563kB 17.1MB/s eta 0:00:01\r\u001b[K     |███████████████████████████▏    | 573kB 17.1MB/s eta 0:00:01\r\u001b[K     |███████████████████████████▊    | 583kB 17.1MB/s eta 0:00:01\r\u001b[K     |████████████████████████████▏   | 593kB 17.1MB/s eta 0:00:01\r\u001b[K     |████████████████████████████▋   | 604kB 17.1MB/s eta 0:00:01\r\u001b[K     |█████████████████████████████▏  | 614kB 17.1MB/s eta 0:00:01\r\u001b[K     |█████████████████████████████▋  | 624kB 17.1MB/s eta 0:00:01\r\u001b[K     |██████████████████████████████  | 634kB 17.1MB/s eta 0:00:01\r\u001b[K     |██████████████████████████████▋ | 645kB 17.1MB/s eta 0:00:01\r\u001b[K     |███████████████████████████████ | 655kB 17.1MB/s eta 0:00:01\r\u001b[K     |███████████████████████████████▋| 665kB 17.1MB/s eta 0:00:01\r\u001b[K     |████████████████████████████████| 675kB 17.1MB/s \n",
            "\u001b[?25hRequirement already satisfied: dataclasses; python_version < \"3.7\" in /usr/local/lib/python3.6/dist-packages (from transformers==2.11.0) (0.8)\n",
            "Requirement already satisfied: requests in /usr/local/lib/python3.6/dist-packages (from transformers==2.11.0) (2.23.0)\n",
            "Requirement already satisfied: filelock in /usr/local/lib/python3.6/dist-packages (from transformers==2.11.0) (3.0.12)\n",
            "Requirement already satisfied: regex!=2019.12.17 in /usr/local/lib/python3.6/dist-packages (from transformers==2.11.0) (2019.12.20)\n",
            "Requirement already satisfied: packaging in /usr/local/lib/python3.6/dist-packages (from transformers==2.11.0) (20.9)\n",
            "Collecting sentencepiece\n",
            "\u001b[?25l  Downloading https://files.pythonhosted.org/packages/14/67/e42bd1181472c95c8cda79305df848264f2a7f62740995a46945d9797b67/sentencepiece-0.1.95-cp36-cp36m-manylinux2014_x86_64.whl (1.2MB)\n",
            "\u001b[K     |████████████████████████████████| 1.2MB 51.4MB/s \n",
            "\u001b[?25hCollecting sacremoses\n",
            "\u001b[?25l  Downloading https://files.pythonhosted.org/packages/7d/34/09d19aff26edcc8eb2a01bed8e98f13a1537005d31e95233fd48216eed10/sacremoses-0.0.43.tar.gz (883kB)\n",
            "\u001b[K     |████████████████████████████████| 890kB 60.6MB/s \n",
            "\u001b[?25hRequirement already satisfied: tqdm>=4.27 in /usr/local/lib/python3.6/dist-packages (from transformers==2.11.0) (4.41.1)\n",
            "Requirement already satisfied: numpy in /usr/local/lib/python3.6/dist-packages (from transformers==2.11.0) (1.19.5)\n",
            "Collecting tokenizers==0.7.0\n",
            "\u001b[?25l  Downloading https://files.pythonhosted.org/packages/14/e5/a26eb4716523808bb0a799fcfdceb6ebf77a18169d9591b2f46a9adb87d9/tokenizers-0.7.0-cp36-cp36m-manylinux1_x86_64.whl (3.8MB)\n",
            "\u001b[K     |████████████████████████████████| 3.8MB 55.9MB/s \n",
            "\u001b[?25hRequirement already satisfied: urllib3!=1.25.0,!=1.25.1,<1.26,>=1.21.1 in /usr/local/lib/python3.6/dist-packages (from requests->transformers==2.11.0) (1.24.3)\n",
            "Requirement already satisfied: chardet<4,>=3.0.2 in /usr/local/lib/python3.6/dist-packages (from requests->transformers==2.11.0) (3.0.4)\n",
            "Requirement already satisfied: certifi>=2017.4.17 in /usr/local/lib/python3.6/dist-packages (from requests->transformers==2.11.0) (2020.12.5)\n",
            "Requirement already satisfied: idna<3,>=2.5 in /usr/local/lib/python3.6/dist-packages (from requests->transformers==2.11.0) (2.10)\n",
            "Requirement already satisfied: pyparsing>=2.0.2 in /usr/local/lib/python3.6/dist-packages (from packaging->transformers==2.11.0) (2.4.7)\n",
            "Requirement already satisfied: six in /usr/local/lib/python3.6/dist-packages (from sacremoses->transformers==2.11.0) (1.15.0)\n",
            "Requirement already satisfied: click in /usr/local/lib/python3.6/dist-packages (from sacremoses->transformers==2.11.0) (7.1.2)\n",
            "Requirement already satisfied: joblib in /usr/local/lib/python3.6/dist-packages (from sacremoses->transformers==2.11.0) (1.0.0)\n",
            "Building wheels for collected packages: sacremoses\n",
            "  Building wheel for sacremoses (setup.py) ... \u001b[?25l\u001b[?25hdone\n",
            "  Created wheel for sacremoses: filename=sacremoses-0.0.43-cp36-none-any.whl size=893261 sha256=66578faddbd0ddd8bd15111bee5e29b5df864f7cc61d398502c26a5e73edbe5e\n",
            "  Stored in directory: /root/.cache/pip/wheels/29/3c/fd/7ce5c3f0666dab31a50123635e6fb5e19ceb42ce38d4e58f45\n",
            "Successfully built sacremoses\n",
            "Installing collected packages: sentencepiece, sacremoses, tokenizers, transformers\n",
            "Successfully installed sacremoses-0.0.43 sentencepiece-0.1.95 tokenizers-0.7.0 transformers-2.11.0\n"
          ],
          "name": "stdout"
        }
      ]
    },
    {
      "cell_type": "code",
      "metadata": {
        "colab": {
          "base_uri": "https://localhost:8080/"
        },
        "id": "-9ft2Wvo17aF",
        "outputId": "205d258a-0476-4850-f779-017940b65cb2"
      },
      "source": [
        "!pip install ipython-autotime\r\n",
        "\r\n",
        "%load_ext autotime"
      ],
      "execution_count": null,
      "outputs": [
        {
          "output_type": "stream",
          "text": [
            "Collecting ipython-autotime\n",
            "  Downloading https://files.pythonhosted.org/packages/b4/c9/b413a24f759641bc27ef98c144b590023c8038dfb8a3f09e713e9dff12c1/ipython_autotime-0.3.1-py2.py3-none-any.whl\n",
            "Requirement already satisfied: ipython in /usr/local/lib/python3.6/dist-packages (from ipython-autotime) (5.5.0)\n",
            "Requirement already satisfied: prompt-toolkit<2.0.0,>=1.0.4 in /usr/local/lib/python3.6/dist-packages (from ipython->ipython-autotime) (1.0.18)\n",
            "Requirement already satisfied: simplegeneric>0.8 in /usr/local/lib/python3.6/dist-packages (from ipython->ipython-autotime) (0.8.1)\n",
            "Requirement already satisfied: traitlets>=4.2 in /usr/local/lib/python3.6/dist-packages (from ipython->ipython-autotime) (4.3.3)\n",
            "Requirement already satisfied: pygments in /usr/local/lib/python3.6/dist-packages (from ipython->ipython-autotime) (2.6.1)\n",
            "Requirement already satisfied: decorator in /usr/local/lib/python3.6/dist-packages (from ipython->ipython-autotime) (4.4.2)\n",
            "Requirement already satisfied: pexpect; sys_platform != \"win32\" in /usr/local/lib/python3.6/dist-packages (from ipython->ipython-autotime) (4.8.0)\n",
            "Requirement already satisfied: setuptools>=18.5 in /usr/local/lib/python3.6/dist-packages (from ipython->ipython-autotime) (53.0.0)\n",
            "Requirement already satisfied: pickleshare in /usr/local/lib/python3.6/dist-packages (from ipython->ipython-autotime) (0.7.5)\n",
            "Requirement already satisfied: wcwidth in /usr/local/lib/python3.6/dist-packages (from prompt-toolkit<2.0.0,>=1.0.4->ipython->ipython-autotime) (0.2.5)\n",
            "Requirement already satisfied: six>=1.9.0 in /usr/local/lib/python3.6/dist-packages (from prompt-toolkit<2.0.0,>=1.0.4->ipython->ipython-autotime) (1.15.0)\n",
            "Requirement already satisfied: ipython-genutils in /usr/local/lib/python3.6/dist-packages (from traitlets>=4.2->ipython->ipython-autotime) (0.2.0)\n",
            "Requirement already satisfied: ptyprocess>=0.5 in /usr/local/lib/python3.6/dist-packages (from pexpect; sys_platform != \"win32\"->ipython->ipython-autotime) (0.7.0)\n",
            "Installing collected packages: ipython-autotime\n",
            "Successfully installed ipython-autotime-0.3.1\n",
            "time: 156 µs (started: 2021-02-13 12:53:25 +00:00)\n"
          ],
          "name": "stdout"
        }
      ]
    },
    {
      "cell_type": "code",
      "metadata": {
        "colab": {
          "base_uri": "https://localhost:8080/"
        },
        "id": "9yXcMC1BV5cY",
        "outputId": "f3daa7a8-a854-44ee-89dd-639ad7514f70"
      },
      "source": [
        "import numpy as np\r\n",
        "import pandas as pd\r\n",
        "import tensorflow as tf\r\n",
        "import transformers"
      ],
      "execution_count": null,
      "outputs": [
        {
          "output_type": "stream",
          "text": [
            "time: 5.48 s (started: 2021-02-13 12:53:25 +00:00)\n"
          ],
          "name": "stdout"
        }
      ]
    },
    {
      "cell_type": "code",
      "metadata": {
        "colab": {
          "base_uri": "https://localhost:8080/"
        },
        "id": "SbR-qj3FWA_h",
        "outputId": "5cd304f5-a7c3-4484-95c2-903f42101351"
      },
      "source": [
        "print(transformers.__version__)"
      ],
      "execution_count": null,
      "outputs": [
        {
          "output_type": "stream",
          "text": [
            "2.11.0\n",
            "time: 1.37 ms (started: 2021-02-13 12:53:31 +00:00)\n"
          ],
          "name": "stdout"
        }
      ]
    },
    {
      "cell_type": "code",
      "metadata": {
        "colab": {
          "base_uri": "https://localhost:8080/"
        },
        "id": "aMIh2LWReDaw",
        "outputId": "5076a2b9-fe18-43db-c5c3-848a5ee29433"
      },
      "source": [
        "import pickle\r\n",
        "import tempfile\r\n",
        "from tensorflow.keras.models import Sequential, load_model, save_model, Model\r\n",
        "from tensorflow.keras.layers import Dense\r\n",
        "\r\n",
        "# Hotfix function\r\n",
        "def make_keras_picklable():\r\n",
        "    def __getstate__(self):\r\n",
        "        model_str = \"\"\r\n",
        "        with tempfile.NamedTemporaryFile(suffix='.hdf5', delete=True) as fd:\r\n",
        "            save_model(self, fd.name, overwrite=True)\r\n",
        "            model_str = fd.read()\r\n",
        "        d = {'model_str': model_str}\r\n",
        "        return d\r\n",
        "\r\n",
        "    def __setstate__(self, state):\r\n",
        "        with tempfile.NamedTemporaryFile(suffix='.hdf5', delete=True) as fd:\r\n",
        "            fd.write(state['model_str'])\r\n",
        "            fd.flush()\r\n",
        "            model = load_model(fd.name)\r\n",
        "        self.__dict__ = model.__dict__\r\n",
        "\r\n",
        "\r\n",
        "    cls = Model\r\n",
        "    cls.__getstate__ = __getstate__\r\n",
        "    cls.__setstate__ = __setstate__\r\n",
        "\r\n",
        "# Run the function\r\n",
        "make_keras_picklable()"
      ],
      "execution_count": null,
      "outputs": [
        {
          "output_type": "stream",
          "text": [
            "time: 10.8 ms (started: 2021-02-13 12:58:06 +00:00)\n"
          ],
          "name": "stdout"
        }
      ]
    },
    {
      "cell_type": "code",
      "metadata": {
        "colab": {
          "base_uri": "https://localhost:8080/"
        },
        "id": "2YTJRFx0WD5g",
        "outputId": "b5c38b57-b3f1-4b17-bd1b-e96c838e13f8"
      },
      "source": [
        "train_df = pd.read_csv(\"train.csv\", error_bad_lines=False)\r\n",
        "\r\n",
        "print(f\"Total train samples : {train_df.shape[0]}\")"
      ],
      "execution_count": null,
      "outputs": [
        {
          "output_type": "stream",
          "text": [
            "Total train samples : 404290\n",
            "time: 739 ms (started: 2021-02-13 12:58:11 +00:00)\n"
          ],
          "name": "stdout"
        }
      ]
    },
    {
      "cell_type": "code",
      "metadata": {
        "colab": {
          "base_uri": "https://localhost:8080/",
          "height": 433
        },
        "id": "tKyPdhtQWYon",
        "outputId": "18136ea8-c7c6-4b59-9ed4-7be12b582039"
      },
      "source": [
        "train_df\r\n",
        "# 1 in 'is_duplicate' denotes that the questions are similar"
      ],
      "execution_count": null,
      "outputs": [
        {
          "output_type": "execute_result",
          "data": {
            "text/html": [
              "<div>\n",
              "<style scoped>\n",
              "    .dataframe tbody tr th:only-of-type {\n",
              "        vertical-align: middle;\n",
              "    }\n",
              "\n",
              "    .dataframe tbody tr th {\n",
              "        vertical-align: top;\n",
              "    }\n",
              "\n",
              "    .dataframe thead th {\n",
              "        text-align: right;\n",
              "    }\n",
              "</style>\n",
              "<table border=\"1\" class=\"dataframe\">\n",
              "  <thead>\n",
              "    <tr style=\"text-align: right;\">\n",
              "      <th></th>\n",
              "      <th>id</th>\n",
              "      <th>qid1</th>\n",
              "      <th>qid2</th>\n",
              "      <th>question1</th>\n",
              "      <th>question2</th>\n",
              "      <th>is_duplicate</th>\n",
              "    </tr>\n",
              "  </thead>\n",
              "  <tbody>\n",
              "    <tr>\n",
              "      <th>0</th>\n",
              "      <td>0</td>\n",
              "      <td>1</td>\n",
              "      <td>2</td>\n",
              "      <td>What is the step by step guide to invest in sh...</td>\n",
              "      <td>What is the step by step guide to invest in sh...</td>\n",
              "      <td>0</td>\n",
              "    </tr>\n",
              "    <tr>\n",
              "      <th>1</th>\n",
              "      <td>1</td>\n",
              "      <td>3</td>\n",
              "      <td>4</td>\n",
              "      <td>What is the story of Kohinoor (Koh-i-Noor) Dia...</td>\n",
              "      <td>What would happen if the Indian government sto...</td>\n",
              "      <td>0</td>\n",
              "    </tr>\n",
              "    <tr>\n",
              "      <th>2</th>\n",
              "      <td>2</td>\n",
              "      <td>5</td>\n",
              "      <td>6</td>\n",
              "      <td>How can I increase the speed of my internet co...</td>\n",
              "      <td>How can Internet speed be increased by hacking...</td>\n",
              "      <td>0</td>\n",
              "    </tr>\n",
              "    <tr>\n",
              "      <th>3</th>\n",
              "      <td>3</td>\n",
              "      <td>7</td>\n",
              "      <td>8</td>\n",
              "      <td>Why am I mentally very lonely? How can I solve...</td>\n",
              "      <td>Find the remainder when [math]23^{24}[/math] i...</td>\n",
              "      <td>0</td>\n",
              "    </tr>\n",
              "    <tr>\n",
              "      <th>4</th>\n",
              "      <td>4</td>\n",
              "      <td>9</td>\n",
              "      <td>10</td>\n",
              "      <td>Which one dissolve in water quikly sugar, salt...</td>\n",
              "      <td>Which fish would survive in salt water?</td>\n",
              "      <td>0</td>\n",
              "    </tr>\n",
              "    <tr>\n",
              "      <th>...</th>\n",
              "      <td>...</td>\n",
              "      <td>...</td>\n",
              "      <td>...</td>\n",
              "      <td>...</td>\n",
              "      <td>...</td>\n",
              "      <td>...</td>\n",
              "    </tr>\n",
              "    <tr>\n",
              "      <th>404285</th>\n",
              "      <td>404285</td>\n",
              "      <td>433578</td>\n",
              "      <td>379845</td>\n",
              "      <td>How many keywords are there in the Racket prog...</td>\n",
              "      <td>How many keywords are there in PERL Programmin...</td>\n",
              "      <td>0</td>\n",
              "    </tr>\n",
              "    <tr>\n",
              "      <th>404286</th>\n",
              "      <td>404286</td>\n",
              "      <td>18840</td>\n",
              "      <td>155606</td>\n",
              "      <td>Do you believe there is life after death?</td>\n",
              "      <td>Is it true that there is life after death?</td>\n",
              "      <td>1</td>\n",
              "    </tr>\n",
              "    <tr>\n",
              "      <th>404287</th>\n",
              "      <td>404287</td>\n",
              "      <td>537928</td>\n",
              "      <td>537929</td>\n",
              "      <td>What is one coin?</td>\n",
              "      <td>What's this coin?</td>\n",
              "      <td>0</td>\n",
              "    </tr>\n",
              "    <tr>\n",
              "      <th>404288</th>\n",
              "      <td>404288</td>\n",
              "      <td>537930</td>\n",
              "      <td>537931</td>\n",
              "      <td>What is the approx annual cost of living while...</td>\n",
              "      <td>I am having little hairfall problem but I want...</td>\n",
              "      <td>0</td>\n",
              "    </tr>\n",
              "    <tr>\n",
              "      <th>404289</th>\n",
              "      <td>404289</td>\n",
              "      <td>537932</td>\n",
              "      <td>537933</td>\n",
              "      <td>What is like to have sex with cousin?</td>\n",
              "      <td>What is it like to have sex with your cousin?</td>\n",
              "      <td>0</td>\n",
              "    </tr>\n",
              "  </tbody>\n",
              "</table>\n",
              "<p>404290 rows × 6 columns</p>\n",
              "</div>"
            ],
            "text/plain": [
              "            id  ...  is_duplicate\n",
              "0            0  ...             0\n",
              "1            1  ...             0\n",
              "2            2  ...             0\n",
              "3            3  ...             0\n",
              "4            4  ...             0\n",
              "...        ...  ...           ...\n",
              "404285  404285  ...             0\n",
              "404286  404286  ...             1\n",
              "404287  404287  ...             0\n",
              "404288  404288  ...             0\n",
              "404289  404289  ...             0\n",
              "\n",
              "[404290 rows x 6 columns]"
            ]
          },
          "metadata": {
            "tags": []
          },
          "execution_count": 10
        },
        {
          "output_type": "stream",
          "text": [
            "time: 30 ms (started: 2021-02-13 12:58:12 +00:00)\n"
          ],
          "name": "stdout"
        }
      ]
    },
    {
      "cell_type": "code",
      "metadata": {
        "colab": {
          "base_uri": "https://localhost:8080/"
        },
        "id": "viN_X8sBWbCu",
        "outputId": "21bc1a95-b59b-473e-9ff0-267f3f67dcb0"
      },
      "source": [
        "train_df.drop(['id', 'qid1', 'qid2'], axis=1, inplace=True)\r\n",
        "\r\n",
        "train_df.columns = ['question1', 'question2', 'label']"
      ],
      "execution_count": null,
      "outputs": [
        {
          "output_type": "stream",
          "text": [
            "time: 30.6 ms (started: 2021-02-13 12:58:12 +00:00)\n"
          ],
          "name": "stdout"
        }
      ]
    },
    {
      "cell_type": "code",
      "metadata": {
        "colab": {
          "base_uri": "https://localhost:8080/",
          "height": 433
        },
        "id": "8ZxyJGcWWks6",
        "outputId": "6c027804-704f-4ebe-d06e-6a2bd051ca18"
      },
      "source": [
        "train_df"
      ],
      "execution_count": null,
      "outputs": [
        {
          "output_type": "execute_result",
          "data": {
            "text/html": [
              "<div>\n",
              "<style scoped>\n",
              "    .dataframe tbody tr th:only-of-type {\n",
              "        vertical-align: middle;\n",
              "    }\n",
              "\n",
              "    .dataframe tbody tr th {\n",
              "        vertical-align: top;\n",
              "    }\n",
              "\n",
              "    .dataframe thead th {\n",
              "        text-align: right;\n",
              "    }\n",
              "</style>\n",
              "<table border=\"1\" class=\"dataframe\">\n",
              "  <thead>\n",
              "    <tr style=\"text-align: right;\">\n",
              "      <th></th>\n",
              "      <th>question1</th>\n",
              "      <th>question2</th>\n",
              "      <th>label</th>\n",
              "    </tr>\n",
              "  </thead>\n",
              "  <tbody>\n",
              "    <tr>\n",
              "      <th>0</th>\n",
              "      <td>What is the step by step guide to invest in sh...</td>\n",
              "      <td>What is the step by step guide to invest in sh...</td>\n",
              "      <td>0</td>\n",
              "    </tr>\n",
              "    <tr>\n",
              "      <th>1</th>\n",
              "      <td>What is the story of Kohinoor (Koh-i-Noor) Dia...</td>\n",
              "      <td>What would happen if the Indian government sto...</td>\n",
              "      <td>0</td>\n",
              "    </tr>\n",
              "    <tr>\n",
              "      <th>2</th>\n",
              "      <td>How can I increase the speed of my internet co...</td>\n",
              "      <td>How can Internet speed be increased by hacking...</td>\n",
              "      <td>0</td>\n",
              "    </tr>\n",
              "    <tr>\n",
              "      <th>3</th>\n",
              "      <td>Why am I mentally very lonely? How can I solve...</td>\n",
              "      <td>Find the remainder when [math]23^{24}[/math] i...</td>\n",
              "      <td>0</td>\n",
              "    </tr>\n",
              "    <tr>\n",
              "      <th>4</th>\n",
              "      <td>Which one dissolve in water quikly sugar, salt...</td>\n",
              "      <td>Which fish would survive in salt water?</td>\n",
              "      <td>0</td>\n",
              "    </tr>\n",
              "    <tr>\n",
              "      <th>...</th>\n",
              "      <td>...</td>\n",
              "      <td>...</td>\n",
              "      <td>...</td>\n",
              "    </tr>\n",
              "    <tr>\n",
              "      <th>404285</th>\n",
              "      <td>How many keywords are there in the Racket prog...</td>\n",
              "      <td>How many keywords are there in PERL Programmin...</td>\n",
              "      <td>0</td>\n",
              "    </tr>\n",
              "    <tr>\n",
              "      <th>404286</th>\n",
              "      <td>Do you believe there is life after death?</td>\n",
              "      <td>Is it true that there is life after death?</td>\n",
              "      <td>1</td>\n",
              "    </tr>\n",
              "    <tr>\n",
              "      <th>404287</th>\n",
              "      <td>What is one coin?</td>\n",
              "      <td>What's this coin?</td>\n",
              "      <td>0</td>\n",
              "    </tr>\n",
              "    <tr>\n",
              "      <th>404288</th>\n",
              "      <td>What is the approx annual cost of living while...</td>\n",
              "      <td>I am having little hairfall problem but I want...</td>\n",
              "      <td>0</td>\n",
              "    </tr>\n",
              "    <tr>\n",
              "      <th>404289</th>\n",
              "      <td>What is like to have sex with cousin?</td>\n",
              "      <td>What is it like to have sex with your cousin?</td>\n",
              "      <td>0</td>\n",
              "    </tr>\n",
              "  </tbody>\n",
              "</table>\n",
              "<p>404290 rows × 3 columns</p>\n",
              "</div>"
            ],
            "text/plain": [
              "                                                question1  ... label\n",
              "0       What is the step by step guide to invest in sh...  ...     0\n",
              "1       What is the story of Kohinoor (Koh-i-Noor) Dia...  ...     0\n",
              "2       How can I increase the speed of my internet co...  ...     0\n",
              "3       Why am I mentally very lonely? How can I solve...  ...     0\n",
              "4       Which one dissolve in water quikly sugar, salt...  ...     0\n",
              "...                                                   ...  ...   ...\n",
              "404285  How many keywords are there in the Racket prog...  ...     0\n",
              "404286          Do you believe there is life after death?  ...     1\n",
              "404287                                  What is one coin?  ...     0\n",
              "404288  What is the approx annual cost of living while...  ...     0\n",
              "404289              What is like to have sex with cousin?  ...     0\n",
              "\n",
              "[404290 rows x 3 columns]"
            ]
          },
          "metadata": {
            "tags": []
          },
          "execution_count": 12
        },
        {
          "output_type": "stream",
          "text": [
            "time: 36 ms (started: 2021-02-13 12:58:12 +00:00)\n"
          ],
          "name": "stdout"
        }
      ]
    },
    {
      "cell_type": "code",
      "metadata": {
        "colab": {
          "base_uri": "https://localhost:8080/"
        },
        "id": "az7zU6pNcyRF",
        "outputId": "846c673c-67e3-4447-e6de-7f82133da92e"
      },
      "source": [
        "train, validate, test = \\\r\n",
        "              np.split(train_df.sample(frac=1, random_state=42), \r\n",
        "                       [int(.6*len(train_df)), int(.8*len(train_df))])"
      ],
      "execution_count": null,
      "outputs": [
        {
          "output_type": "stream",
          "text": [
            "time: 172 ms (started: 2021-02-13 12:58:14 +00:00)\n"
          ],
          "name": "stdout"
        }
      ]
    },
    {
      "cell_type": "code",
      "metadata": {
        "colab": {
          "base_uri": "https://localhost:8080/",
          "height": 433
        },
        "id": "PRLODitMgri0",
        "outputId": "16817927-82ea-4398-8941-7908b31c87e8"
      },
      "source": [
        "train"
      ],
      "execution_count": null,
      "outputs": [
        {
          "output_type": "execute_result",
          "data": {
            "text/html": [
              "<div>\n",
              "<style scoped>\n",
              "    .dataframe tbody tr th:only-of-type {\n",
              "        vertical-align: middle;\n",
              "    }\n",
              "\n",
              "    .dataframe tbody tr th {\n",
              "        vertical-align: top;\n",
              "    }\n",
              "\n",
              "    .dataframe thead th {\n",
              "        text-align: right;\n",
              "    }\n",
              "</style>\n",
              "<table border=\"1\" class=\"dataframe\">\n",
              "  <thead>\n",
              "    <tr style=\"text-align: right;\">\n",
              "      <th></th>\n",
              "      <th>question1</th>\n",
              "      <th>question2</th>\n",
              "      <th>label</th>\n",
              "    </tr>\n",
              "  </thead>\n",
              "  <tbody>\n",
              "    <tr>\n",
              "      <th>8067</th>\n",
              "      <td>How do I play Pokémon GO in Korea?</td>\n",
              "      <td>How do I play Pokémon GO in China?</td>\n",
              "      <td>0</td>\n",
              "    </tr>\n",
              "    <tr>\n",
              "      <th>368101</th>\n",
              "      <td>What are some of the best side dishes for crab...</td>\n",
              "      <td>What are some good side dishes for buffalo chi...</td>\n",
              "      <td>0</td>\n",
              "    </tr>\n",
              "    <tr>\n",
              "      <th>70497</th>\n",
              "      <td>Which is more advisable and better material fo...</td>\n",
              "      <td>What is the best server setup for buddypress?</td>\n",
              "      <td>0</td>\n",
              "    </tr>\n",
              "    <tr>\n",
              "      <th>226567</th>\n",
              "      <td>How do I improve logical programming skills?</td>\n",
              "      <td>How can I improve my logical skills for progra...</td>\n",
              "      <td>1</td>\n",
              "    </tr>\n",
              "    <tr>\n",
              "      <th>73186</th>\n",
              "      <td>How close we are to see 3rd world war?</td>\n",
              "      <td>How close is a World War III?</td>\n",
              "      <td>1</td>\n",
              "    </tr>\n",
              "    <tr>\n",
              "      <th>...</th>\n",
              "      <td>...</td>\n",
              "      <td>...</td>\n",
              "      <td>...</td>\n",
              "    </tr>\n",
              "    <tr>\n",
              "      <th>114191</th>\n",
              "      <td>What Is a Blogger?</td>\n",
              "      <td>What is blogger?</td>\n",
              "      <td>1</td>\n",
              "    </tr>\n",
              "    <tr>\n",
              "      <th>178082</th>\n",
              "      <td>Will a small humidifier near the bed in a larg...</td>\n",
              "      <td>I have to design a large humidity controlled s...</td>\n",
              "      <td>0</td>\n",
              "    </tr>\n",
              "    <tr>\n",
              "      <th>312122</th>\n",
              "      <td>Is there any Nano technology GPS tracking feat...</td>\n",
              "      <td>The Newly Introduced 2000 Rupees and 500 Rupee...</td>\n",
              "      <td>1</td>\n",
              "    </tr>\n",
              "    <tr>\n",
              "      <th>133284</th>\n",
              "      <td>What are the best restaurants to try when visi...</td>\n",
              "      <td>What are the best restaurants to try when visi...</td>\n",
              "      <td>0</td>\n",
              "    </tr>\n",
              "    <tr>\n",
              "      <th>159151</th>\n",
              "      <td>How does an employer know the uan number?</td>\n",
              "      <td>Can an employer know about my UAN number?</td>\n",
              "      <td>1</td>\n",
              "    </tr>\n",
              "  </tbody>\n",
              "</table>\n",
              "<p>242574 rows × 3 columns</p>\n",
              "</div>"
            ],
            "text/plain": [
              "                                                question1  ... label\n",
              "8067                   How do I play Pokémon GO in Korea?  ...     0\n",
              "368101  What are some of the best side dishes for crab...  ...     0\n",
              "70497   Which is more advisable and better material fo...  ...     0\n",
              "226567       How do I improve logical programming skills?  ...     1\n",
              "73186              How close we are to see 3rd world war?  ...     1\n",
              "...                                                   ...  ...   ...\n",
              "114191                                 What Is a Blogger?  ...     1\n",
              "178082  Will a small humidifier near the bed in a larg...  ...     0\n",
              "312122  Is there any Nano technology GPS tracking feat...  ...     1\n",
              "133284  What are the best restaurants to try when visi...  ...     0\n",
              "159151          How does an employer know the uan number?  ...     1\n",
              "\n",
              "[242574 rows x 3 columns]"
            ]
          },
          "metadata": {
            "tags": []
          },
          "execution_count": 14
        },
        {
          "output_type": "stream",
          "text": [
            "time: 35.2 ms (started: 2021-02-13 12:58:15 +00:00)\n"
          ],
          "name": "stdout"
        }
      ]
    },
    {
      "cell_type": "code",
      "metadata": {
        "colab": {
          "base_uri": "https://localhost:8080/",
          "height": 433
        },
        "id": "A25d9ujigum0",
        "outputId": "560ea74b-9a65-4ef5-c6bb-62463bd5101d"
      },
      "source": [
        "validate"
      ],
      "execution_count": null,
      "outputs": [
        {
          "output_type": "execute_result",
          "data": {
            "text/html": [
              "<div>\n",
              "<style scoped>\n",
              "    .dataframe tbody tr th:only-of-type {\n",
              "        vertical-align: middle;\n",
              "    }\n",
              "\n",
              "    .dataframe tbody tr th {\n",
              "        vertical-align: top;\n",
              "    }\n",
              "\n",
              "    .dataframe thead th {\n",
              "        text-align: right;\n",
              "    }\n",
              "</style>\n",
              "<table border=\"1\" class=\"dataframe\">\n",
              "  <thead>\n",
              "    <tr style=\"text-align: right;\">\n",
              "      <th></th>\n",
              "      <th>question1</th>\n",
              "      <th>question2</th>\n",
              "      <th>label</th>\n",
              "    </tr>\n",
              "  </thead>\n",
              "  <tbody>\n",
              "    <tr>\n",
              "      <th>106199</th>\n",
              "      <td>What are Sodexo coupons? Why does a company gi...</td>\n",
              "      <td>Why don't eCommerce sites accept Sodexo/Ticket...</td>\n",
              "      <td>0</td>\n",
              "    </tr>\n",
              "    <tr>\n",
              "      <th>83886</th>\n",
              "      <td>Can pet rats eat peanut butter?</td>\n",
              "      <td>Can puppies eat peanut butter? Why or why not?</td>\n",
              "      <td>0</td>\n",
              "    </tr>\n",
              "    <tr>\n",
              "      <th>200543</th>\n",
              "      <td>Can IAS women wear shirt and trousers to work?</td>\n",
              "      <td>Are IAS officiers required to wear uniform?</td>\n",
              "      <td>0</td>\n",
              "    </tr>\n",
              "    <tr>\n",
              "      <th>265070</th>\n",
              "      <td>Got any ideas for pink clothing?</td>\n",
              "      <td>Where should I shop for clothes?</td>\n",
              "      <td>0</td>\n",
              "    </tr>\n",
              "    <tr>\n",
              "      <th>211647</th>\n",
              "      <td>What can be the maximum share of a single pers...</td>\n",
              "      <td>What's the STCG and LTCG tax rate on shares fo...</td>\n",
              "      <td>0</td>\n",
              "    </tr>\n",
              "    <tr>\n",
              "      <th>...</th>\n",
              "      <td>...</td>\n",
              "      <td>...</td>\n",
              "      <td>...</td>\n",
              "    </tr>\n",
              "    <tr>\n",
              "      <th>191549</th>\n",
              "      <td>As a venture capital investor, if you had an o...</td>\n",
              "      <td>As a venture capital investor, if you had an o...</td>\n",
              "      <td>0</td>\n",
              "    </tr>\n",
              "    <tr>\n",
              "      <th>281839</th>\n",
              "      <td>What is the best thing that ever happened to y...</td>\n",
              "      <td>What is the most interesting thing that ever h...</td>\n",
              "      <td>0</td>\n",
              "    </tr>\n",
              "    <tr>\n",
              "      <th>369326</th>\n",
              "      <td>How can I be an accountant?</td>\n",
              "      <td>How do I become an accountant?</td>\n",
              "      <td>0</td>\n",
              "    </tr>\n",
              "    <tr>\n",
              "      <th>119616</th>\n",
              "      <td>Which construction technology is used for Quat...</td>\n",
              "      <td>How does it feels to be on the top of Qutub Mi...</td>\n",
              "      <td>0</td>\n",
              "    </tr>\n",
              "    <tr>\n",
              "      <th>59809</th>\n",
              "      <td>What are the weekend spots to travel near Vado...</td>\n",
              "      <td>HugsMeanNothing to me they neverHave Not even ...</td>\n",
              "      <td>0</td>\n",
              "    </tr>\n",
              "  </tbody>\n",
              "</table>\n",
              "<p>80858 rows × 3 columns</p>\n",
              "</div>"
            ],
            "text/plain": [
              "                                                question1  ... label\n",
              "106199  What are Sodexo coupons? Why does a company gi...  ...     0\n",
              "83886                     Can pet rats eat peanut butter?  ...     0\n",
              "200543     Can IAS women wear shirt and trousers to work?  ...     0\n",
              "265070                   Got any ideas for pink clothing?  ...     0\n",
              "211647  What can be the maximum share of a single pers...  ...     0\n",
              "...                                                   ...  ...   ...\n",
              "191549  As a venture capital investor, if you had an o...  ...     0\n",
              "281839  What is the best thing that ever happened to y...  ...     0\n",
              "369326                        How can I be an accountant?  ...     0\n",
              "119616  Which construction technology is used for Quat...  ...     0\n",
              "59809   What are the weekend spots to travel near Vado...  ...     0\n",
              "\n",
              "[80858 rows x 3 columns]"
            ]
          },
          "metadata": {
            "tags": []
          },
          "execution_count": 15
        },
        {
          "output_type": "stream",
          "text": [
            "time: 23.6 ms (started: 2021-02-13 12:58:15 +00:00)\n"
          ],
          "name": "stdout"
        }
      ]
    },
    {
      "cell_type": "code",
      "metadata": {
        "colab": {
          "base_uri": "https://localhost:8080/",
          "height": 433
        },
        "id": "YzeJAZdFgwUs",
        "outputId": "6e754472-6bfb-49ab-ff08-391e08a78cad"
      },
      "source": [
        "test"
      ],
      "execution_count": null,
      "outputs": [
        {
          "output_type": "execute_result",
          "data": {
            "text/html": [
              "<div>\n",
              "<style scoped>\n",
              "    .dataframe tbody tr th:only-of-type {\n",
              "        vertical-align: middle;\n",
              "    }\n",
              "\n",
              "    .dataframe tbody tr th {\n",
              "        vertical-align: top;\n",
              "    }\n",
              "\n",
              "    .dataframe thead th {\n",
              "        text-align: right;\n",
              "    }\n",
              "</style>\n",
              "<table border=\"1\" class=\"dataframe\">\n",
              "  <thead>\n",
              "    <tr style=\"text-align: right;\">\n",
              "      <th></th>\n",
              "      <th>question1</th>\n",
              "      <th>question2</th>\n",
              "      <th>label</th>\n",
              "    </tr>\n",
              "  </thead>\n",
              "  <tbody>\n",
              "    <tr>\n",
              "      <th>373745</th>\n",
              "      <td>How is the interaction when a person with psyc...</td>\n",
              "      <td>Do you prefer a textual conversation or a face...</td>\n",
              "      <td>0</td>\n",
              "    </tr>\n",
              "    <tr>\n",
              "      <th>178451</th>\n",
              "      <td>Time Travel Is It Possible?</td>\n",
              "      <td>Do you think time travel is possible?</td>\n",
              "      <td>1</td>\n",
              "    </tr>\n",
              "    <tr>\n",
              "      <th>83264</th>\n",
              "      <td>Can we use wireless/Bluetooth earphones in fli...</td>\n",
              "      <td>How can I use a wireless PS3 controller using ...</td>\n",
              "      <td>0</td>\n",
              "    </tr>\n",
              "    <tr>\n",
              "      <th>384938</th>\n",
              "      <td>Once I become an accredited investor, am I alw...</td>\n",
              "      <td>How do you become an accredited investor?</td>\n",
              "      <td>0</td>\n",
              "    </tr>\n",
              "    <tr>\n",
              "      <th>282126</th>\n",
              "      <td>In which country we get copper scrap cheap?</td>\n",
              "      <td>I have written upsc prelims 2016. I'm getting ...</td>\n",
              "      <td>0</td>\n",
              "    </tr>\n",
              "    <tr>\n",
              "      <th>...</th>\n",
              "      <td>...</td>\n",
              "      <td>...</td>\n",
              "      <td>...</td>\n",
              "    </tr>\n",
              "    <tr>\n",
              "      <th>259178</th>\n",
              "      <td>How do you feed a Venus flytrap?</td>\n",
              "      <td>Do Venus flytraps have feelings?</td>\n",
              "      <td>0</td>\n",
              "    </tr>\n",
              "    <tr>\n",
              "      <th>365838</th>\n",
              "      <td>I'm an Electrical Engineering student of Sixth...</td>\n",
              "      <td>I am a electrical engineering final year stude...</td>\n",
              "      <td>1</td>\n",
              "    </tr>\n",
              "    <tr>\n",
              "      <th>131932</th>\n",
              "      <td>What is the best DSLR camera for a beginner to...</td>\n",
              "      <td>What's the best DSLR camera on a tight budget?</td>\n",
              "      <td>1</td>\n",
              "    </tr>\n",
              "    <tr>\n",
              "      <th>146867</th>\n",
              "      <td>What is a good computer desk for dual monitors?</td>\n",
              "      <td>What are the best desks for dual monitors?</td>\n",
              "      <td>0</td>\n",
              "    </tr>\n",
              "    <tr>\n",
              "      <th>121958</th>\n",
              "      <td>Focusing &amp; Concentrating: How do I keep myself...</td>\n",
              "      <td>How can I keep myself awake during boring lect...</td>\n",
              "      <td>1</td>\n",
              "    </tr>\n",
              "  </tbody>\n",
              "</table>\n",
              "<p>80858 rows × 3 columns</p>\n",
              "</div>"
            ],
            "text/plain": [
              "                                                question1  ... label\n",
              "373745  How is the interaction when a person with psyc...  ...     0\n",
              "178451                        Time Travel Is It Possible?  ...     1\n",
              "83264   Can we use wireless/Bluetooth earphones in fli...  ...     0\n",
              "384938  Once I become an accredited investor, am I alw...  ...     0\n",
              "282126        In which country we get copper scrap cheap?  ...     0\n",
              "...                                                   ...  ...   ...\n",
              "259178                   How do you feed a Venus flytrap?  ...     0\n",
              "365838  I'm an Electrical Engineering student of Sixth...  ...     1\n",
              "131932  What is the best DSLR camera for a beginner to...  ...     1\n",
              "146867    What is a good computer desk for dual monitors?  ...     0\n",
              "121958  Focusing & Concentrating: How do I keep myself...  ...     1\n",
              "\n",
              "[80858 rows x 3 columns]"
            ]
          },
          "metadata": {
            "tags": []
          },
          "execution_count": 16
        },
        {
          "output_type": "stream",
          "text": [
            "time: 22.4 ms (started: 2021-02-13 12:58:15 +00:00)\n"
          ],
          "name": "stdout"
        }
      ]
    },
    {
      "cell_type": "code",
      "metadata": {
        "colab": {
          "base_uri": "https://localhost:8080/"
        },
        "id": "Hx-S4lKEWwUt",
        "outputId": "f9a5a8f1-d636-4bf8-d9a5-8372537d0d12"
      },
      "source": [
        "print(\"Train Target Distribution\")\r\n",
        "print(train.label.value_counts())"
      ],
      "execution_count": null,
      "outputs": [
        {
          "output_type": "stream",
          "text": [
            "Train Target Distribution\n",
            "0    152849\n",
            "1     89725\n",
            "Name: label, dtype: int64\n",
            "time: 5.65 ms (started: 2021-02-13 12:58:15 +00:00)\n"
          ],
          "name": "stdout"
        }
      ]
    },
    {
      "cell_type": "code",
      "metadata": {
        "colab": {
          "base_uri": "https://localhost:8080/"
        },
        "id": "yT5LV8lAWThN",
        "outputId": "ed3b2336-9983-4f72-cd00-41297cbf843b"
      },
      "source": [
        "print(\"Validate Target Distribution\")\r\n",
        "print(validate.label.value_counts())"
      ],
      "execution_count": null,
      "outputs": [
        {
          "output_type": "stream",
          "text": [
            "Validate Target Distribution\n",
            "0    51236\n",
            "1    29622\n",
            "Name: label, dtype: int64\n",
            "time: 5.84 ms (started: 2021-02-13 12:58:15 +00:00)\n"
          ],
          "name": "stdout"
        }
      ]
    },
    {
      "cell_type": "code",
      "metadata": {
        "colab": {
          "base_uri": "https://localhost:8080/"
        },
        "id": "XDASvkEwWTsI",
        "outputId": "1e7e0df3-6cc7-4d80-b78f-1d55c144cdf8"
      },
      "source": [
        "print(\"Test Target Distribution\")\r\n",
        "print(test.label.value_counts())"
      ],
      "execution_count": null,
      "outputs": [
        {
          "output_type": "stream",
          "text": [
            "Test Target Distribution\n",
            "0    50942\n",
            "1    29916\n",
            "Name: label, dtype: int64\n",
            "time: 7.3 ms (started: 2021-02-13 12:58:15 +00:00)\n"
          ],
          "name": "stdout"
        }
      ]
    },
    {
      "cell_type": "code",
      "metadata": {
        "colab": {
          "base_uri": "https://localhost:8080/"
        },
        "id": "6586EgxHWgfe",
        "outputId": "6ca9cc21-a3dd-40ef-9b50-cb3d0eaf5c34"
      },
      "source": [
        "y_train = tf.keras.utils.to_categorical(train.label, num_classes=2)\r\n",
        "y_validate = tf.keras.utils.to_categorical(validate.label, num_classes=2)\r\n",
        "y_test = tf.keras.utils.to_categorical(test.label, num_classes=2)"
      ],
      "execution_count": null,
      "outputs": [
        {
          "output_type": "stream",
          "text": [
            "time: 11.9 ms (started: 2021-02-13 12:58:15 +00:00)\n"
          ],
          "name": "stdout"
        }
      ]
    },
    {
      "cell_type": "code",
      "metadata": {
        "colab": {
          "base_uri": "https://localhost:8080/"
        },
        "id": "iItIaBfsW2Jr",
        "outputId": "701ecbc2-e911-440d-b5f7-16ff9c98f2c6"
      },
      "source": [
        "max_length = 128  # Maximum length of input sentence to the model.\r\n",
        "batch_size = 32\r\n",
        "epochs = 2"
      ],
      "execution_count": null,
      "outputs": [
        {
          "output_type": "stream",
          "text": [
            "time: 5.6 ms (started: 2021-02-13 12:58:16 +00:00)\n"
          ],
          "name": "stdout"
        }
      ]
    },
    {
      "cell_type": "code",
      "metadata": {
        "colab": {
          "base_uri": "https://localhost:8080/"
        },
        "id": "SgqyElmtW4fa",
        "outputId": "a099a0be-9c2d-449c-eead-b4dc899186d3"
      },
      "source": [
        "class BertSemanticDataGenerator(tf.keras.utils.Sequence):\r\n",
        "    \"\"\"Generates batches of data.\r\n",
        "\r\n",
        "    Args:\r\n",
        "        sentence_pairs: Array of premise and hypothesis input sentences.\r\n",
        "        labels: Array of labels.\r\n",
        "        batch_size: Integer batch size.\r\n",
        "        shuffle: boolean, whether to shuffle the data.\r\n",
        "        include_targets: boolean, whether to incude the labels.\r\n",
        "\r\n",
        "    Returns:\r\n",
        "        Tuples `([input_ids, attention_mask, `token_type_ids], labels)`\r\n",
        "        (or just `[input_ids, attention_mask, `token_type_ids]`\r\n",
        "         if `include_targets=False`)\r\n",
        "    \"\"\"\r\n",
        "\r\n",
        "    def __init__(\r\n",
        "        self,\r\n",
        "        sentence_pairs,\r\n",
        "        labels,\r\n",
        "        batch_size=batch_size,\r\n",
        "        shuffle=True,\r\n",
        "        include_targets=True,\r\n",
        "    ):\r\n",
        "        self.sentence_pairs = sentence_pairs\r\n",
        "        self.labels = labels\r\n",
        "        self.shuffle = shuffle\r\n",
        "        self.batch_size = batch_size\r\n",
        "        self.include_targets = include_targets\r\n",
        "        # Load our BERT Tokenizer to encode the text.\r\n",
        "        # We will use base-base-uncased pretrained model.\r\n",
        "        self.tokenizer = transformers.BertTokenizer.from_pretrained(\r\n",
        "            \"bert-base-uncased\", do_lower_case=True\r\n",
        "        )\r\n",
        "        self.indexes = np.arange(len(self.sentence_pairs))\r\n",
        "        self.on_epoch_end()\r\n",
        "\r\n",
        "    def __len__(self):\r\n",
        "        # Denotes the number of batches per epoch.\r\n",
        "        return len(self.sentence_pairs) // self.batch_size\r\n",
        "\r\n",
        "    def __getitem__(self, idx):\r\n",
        "        # Retrieves the batch of index.\r\n",
        "        indexes = self.indexes[idx * self.batch_size : (idx + 1) * self.batch_size]\r\n",
        "        sentence_pairs = self.sentence_pairs[indexes]\r\n",
        "\r\n",
        "        # With BERT tokenizer's batch_encode_plus batch of both the sentences are\r\n",
        "        # encoded together and separated by [SEP] token.\r\n",
        "        encoded = self.tokenizer.batch_encode_plus(\r\n",
        "            sentence_pairs.tolist(),\r\n",
        "            add_special_tokens=True,\r\n",
        "            max_length=max_length,\r\n",
        "            return_attention_mask=True,\r\n",
        "            return_token_type_ids=True,\r\n",
        "            pad_to_max_length=True,\r\n",
        "            return_tensors=\"tf\",\r\n",
        "        )\r\n",
        "\r\n",
        "        # Convert batch of encoded features to numpy array.\r\n",
        "        input_ids = np.array(encoded[\"input_ids\"], dtype=\"int32\")\r\n",
        "        attention_masks = np.array(encoded[\"attention_mask\"], dtype=\"int32\")\r\n",
        "        token_type_ids = np.array(encoded[\"token_type_ids\"], dtype=\"int32\")\r\n",
        "\r\n",
        "        # Set to true if data generator is used for training/validation.\r\n",
        "        if self.include_targets:\r\n",
        "            labels = np.array(self.labels[indexes], dtype=\"int32\")\r\n",
        "            return [input_ids, attention_masks, token_type_ids], labels\r\n",
        "        else:\r\n",
        "            return [input_ids, attention_masks, token_type_ids]\r\n",
        "\r\n",
        "    def on_epoch_end(self):\r\n",
        "        # Shuffle indexes after each epoch if shuffle is set to True.\r\n",
        "        if self.shuffle:\r\n",
        "            np.random.RandomState(42).shuffle(self.indexes)"
      ],
      "execution_count": null,
      "outputs": [
        {
          "output_type": "stream",
          "text": [
            "time: 26.8 ms (started: 2021-02-13 12:58:16 +00:00)\n"
          ],
          "name": "stdout"
        }
      ]
    },
    {
      "cell_type": "code",
      "metadata": {
        "colab": {
          "base_uri": "https://localhost:8080/"
        },
        "id": "7Myq2MAvwVF9",
        "outputId": "574d85ad-346e-4ae6-b6c2-17f95d0e03d4"
      },
      "source": [
        "# Create the model under a distribution strategy scope.\r\n",
        "strategy = tf.distribute.MirroredStrategy()\r\n",
        "\r\n",
        "with strategy.scope():\r\n",
        "    # Encoded token ids from BERT tokenizer.\r\n",
        "    input_ids = tf.keras.layers.Input(\r\n",
        "        shape=(max_length,), dtype=tf.int32, name=\"input_ids\"\r\n",
        "    )\r\n",
        "    # Attention masks indicates to the model which tokens should be attended to.\r\n",
        "    attention_masks = tf.keras.layers.Input(\r\n",
        "        shape=(max_length,), dtype=tf.int32, name=\"attention_masks\"\r\n",
        "    )\r\n",
        "    # Token type ids are binary masks identifying different sequences in the model.\r\n",
        "    token_type_ids = tf.keras.layers.Input(\r\n",
        "        shape=(max_length,), dtype=tf.int32, name=\"token_type_ids\"\r\n",
        "    )\r\n",
        "    # Loading pretrained BERT model.\r\n",
        "    bert_model = transformers.TFBertModel.from_pretrained(\"bert-base-uncased\")\r\n",
        "    # Freeze the BERT model to reuse the pretrained features without modifying them.\r\n",
        "    bert_model.trainable = False\r\n",
        "\r\n",
        "    sequence_output, pooled_output = bert_model.bert(\r\n",
        "        input_ids, attention_mask=attention_masks, token_type_ids=token_type_ids\r\n",
        "    )\r\n",
        "    # Add trainable layers on top of frozen layers to adapt the pretrained features on the new data.\r\n",
        "    bi_lstm = tf.keras.layers.Bidirectional(\r\n",
        "        tf.keras.layers.LSTM(64, return_sequences=True)\r\n",
        "    )(sequence_output)\r\n",
        "    # Applying hybrid pooling approach to bi_lstm sequence output.\r\n",
        "    avg_pool = tf.keras.layers.GlobalAveragePooling1D()(bi_lstm)\r\n",
        "    max_pool = tf.keras.layers.GlobalMaxPooling1D()(bi_lstm)\r\n",
        "    concat = tf.keras.layers.concatenate([avg_pool, max_pool])\r\n",
        "    dropout = tf.keras.layers.Dropout(0.3)(concat)\r\n",
        "    output = tf.keras.layers.Dense(2, activation=\"softmax\")(dropout)\r\n",
        "    model = tf.keras.models.Model(\r\n",
        "        inputs=[input_ids, attention_masks, token_type_ids], outputs=output\r\n",
        "    )\r\n",
        "\r\n",
        "    model.compile(\r\n",
        "        optimizer=tf.keras.optimizers.Adam(),\r\n",
        "        loss=\"binary_crossentropy\",\r\n",
        "        metrics=[\"acc\"],\r\n",
        "    )\r\n",
        "\r\n",
        "\r\n",
        "print(f\"Strategy: {strategy}\")\r\n",
        "model.summary()"
      ],
      "execution_count": null,
      "outputs": [
        {
          "output_type": "stream",
          "text": [
            "INFO:tensorflow:Using MirroredStrategy with devices ('/job:localhost/replica:0/task:0/device:GPU:0',)\n",
            "INFO:tensorflow:Reduce to /job:localhost/replica:0/task:0/device:CPU:0 then broadcast to ('/job:localhost/replica:0/task:0/device:CPU:0',).\n",
            "INFO:tensorflow:Reduce to /job:localhost/replica:0/task:0/device:CPU:0 then broadcast to ('/job:localhost/replica:0/task:0/device:CPU:0',).\n",
            "INFO:tensorflow:Reduce to /job:localhost/replica:0/task:0/device:CPU:0 then broadcast to ('/job:localhost/replica:0/task:0/device:CPU:0',).\n",
            "INFO:tensorflow:Reduce to /job:localhost/replica:0/task:0/device:CPU:0 then broadcast to ('/job:localhost/replica:0/task:0/device:CPU:0',).\n",
            "Strategy: <tensorflow.python.distribute.mirrored_strategy.MirroredStrategy object at 0x7f4160bb46a0>\n",
            "Model: \"model_1\"\n",
            "__________________________________________________________________________________________________\n",
            "Layer (type)                    Output Shape         Param #     Connected to                     \n",
            "==================================================================================================\n",
            "input_ids (InputLayer)          [(None, 128)]        0                                            \n",
            "__________________________________________________________________________________________________\n",
            "attention_masks (InputLayer)    [(None, 128)]        0                                            \n",
            "__________________________________________________________________________________________________\n",
            "token_type_ids (InputLayer)     [(None, 128)]        0                                            \n",
            "__________________________________________________________________________________________________\n",
            "tf_bert_model_1 (TFBertModel)   ((None, 128, 768), ( 109482240   input_ids[0][0]                  \n",
            "                                                                 attention_masks[0][0]            \n",
            "                                                                 token_type_ids[0][0]             \n",
            "__________________________________________________________________________________________________\n",
            "bidirectional_1 (Bidirectional) (None, 128, 128)     426496      tf_bert_model_1[0][0]            \n",
            "__________________________________________________________________________________________________\n",
            "global_average_pooling1d_1 (Glo (None, 128)          0           bidirectional_1[0][0]            \n",
            "__________________________________________________________________________________________________\n",
            "global_max_pooling1d_1 (GlobalM (None, 128)          0           bidirectional_1[0][0]            \n",
            "__________________________________________________________________________________________________\n",
            "concatenate_1 (Concatenate)     (None, 256)          0           global_average_pooling1d_1[0][0] \n",
            "                                                                 global_max_pooling1d_1[0][0]     \n",
            "__________________________________________________________________________________________________\n",
            "dropout_75 (Dropout)            (None, 256)          0           concatenate_1[0][0]              \n",
            "__________________________________________________________________________________________________\n",
            "dense_1 (Dense)                 (None, 2)            514         dropout_75[0][0]                 \n",
            "==================================================================================================\n",
            "Total params: 109,909,250\n",
            "Trainable params: 427,010\n",
            "Non-trainable params: 109,482,240\n",
            "__________________________________________________________________________________________________\n",
            "time: 3.21 s (started: 2021-02-13 12:58:16 +00:00)\n"
          ],
          "name": "stdout"
        }
      ]
    },
    {
      "cell_type": "code",
      "metadata": {
        "colab": {
          "base_uri": "https://localhost:8080/",
          "height": 84,
          "referenced_widgets": [
            "3dc49290081b47b9b7334486adff1763",
            "4884e2aa4cb04efe8948f0d4aa525c6e",
            "c4d630116fbb4bb6a3a3616e68dc01f0",
            "b1386b4b6ce24fedb001578c4d3f5b66",
            "e2a9213acd144f959c718e88113c6d3f",
            "c66fb21924584aea8644269d8398da7a",
            "adde027890454551bd19f55c29514043",
            "eeb28a188c564d67b76c8a81eae09e19"
          ]
        },
        "id": "t5Y_qfjhwYWI",
        "outputId": "b20fe049-c0c2-4567-b317-b16099b65b78"
      },
      "source": [
        "train_data = BertSemanticDataGenerator(\r\n",
        "    train[[\"question1\", \"question2\"]].values.astype(\"str\"),\r\n",
        "    y_train,\r\n",
        "    batch_size=batch_size,\r\n",
        "    shuffle=True,\r\n",
        ")\r\n",
        "valid_data = BertSemanticDataGenerator(\r\n",
        "    validate[[\"question1\", \"question2\"]].values.astype(\"str\"),\r\n",
        "    y_validate,\r\n",
        "    batch_size=batch_size,\r\n",
        "    shuffle=False,\r\n",
        ")"
      ],
      "execution_count": null,
      "outputs": [
        {
          "output_type": "display_data",
          "data": {
            "application/vnd.jupyter.widget-view+json": {
              "model_id": "3dc49290081b47b9b7334486adff1763",
              "version_major": 2,
              "version_minor": 0
            },
            "text/plain": [
              "HBox(children=(FloatProgress(value=0.0, description='Downloading', max=231508.0, style=ProgressStyle(descripti…"
            ]
          },
          "metadata": {
            "tags": []
          }
        },
        {
          "output_type": "stream",
          "text": [
            "\n",
            "time: 3.09 s (started: 2021-02-13 12:58:20 +00:00)\n"
          ],
          "name": "stdout"
        }
      ]
    },
    {
      "cell_type": "markdown",
      "metadata": {
        "id": "N5x5hd9t4K5X"
      },
      "source": [
        "Training is done only for the top layers to perform \"feature extraction\", which will allow the model to use the representations of the pretrained model."
      ]
    },
    {
      "cell_type": "code",
      "metadata": {
        "colab": {
          "base_uri": "https://localhost:8080/"
        },
        "id": "TBOA6kPMwbOv",
        "outputId": "e65ae052-6bde-404b-ab1d-1f0b8128b4ab"
      },
      "source": [
        "history = model.fit(\r\n",
        "    train_data,\r\n",
        "    validation_data=valid_data,\r\n",
        "    epochs=epochs,\r\n",
        "    use_multiprocessing=True,\r\n",
        "    workers=-1,\r\n",
        ")"
      ],
      "execution_count": null,
      "outputs": [
        {
          "output_type": "stream",
          "text": [
            "Epoch 1/2\n",
            "INFO:tensorflow:Reduce to /job:localhost/replica:0/task:0/device:CPU:0 then broadcast to ('/job:localhost/replica:0/task:0/device:CPU:0',).\n",
            "INFO:tensorflow:Reduce to /job:localhost/replica:0/task:0/device:CPU:0 then broadcast to ('/job:localhost/replica:0/task:0/device:CPU:0',).\n",
            "7580/7580 [==============================] - 3008s 394ms/step - loss: 0.4340 - acc: 0.7827 - val_loss: 0.3458 - val_acc: 0.8371\n",
            "Epoch 2/2\n",
            "7580/7580 [==============================] - 2986s 394ms/step - loss: 0.3479 - acc: 0.8386 - val_loss: 0.3236 - val_acc: 0.8523\n",
            "time: 1h 39min 53s (started: 2021-02-13 12:59:38 +00:00)\n"
          ],
          "name": "stdout"
        }
      ]
    },
    {
      "cell_type": "markdown",
      "metadata": {
        "id": "ueJKIYeJ4XnZ"
      },
      "source": [
        "Fine-tuning\r\n",
        "\r\n",
        "I performed this step only after the feature extraction model has been trained to convergence on the new data.\r\n",
        "\r\n",
        "This is an optional last step where bert_model is unfreezed and retrained with a very low learning rate. This can deliver meaningful improvement by incrementally adapting the pretrained features to the new data."
      ]
    },
    {
      "cell_type": "code",
      "metadata": {
        "colab": {
          "base_uri": "https://localhost:8080/"
        },
        "id": "WAgVYdQ02Ufv",
        "outputId": "62d67d76-407b-448f-dede-a523bb5a4c19"
      },
      "source": [
        "# Unfreeze the bert_model.\r\n",
        "bert_model.trainable = True\r\n",
        "# Recompile the model to make the change effective.\r\n",
        "model.compile(\r\n",
        "    optimizer=tf.keras.optimizers.Adam(1e-5),\r\n",
        "    loss=\"binary_crossentropy\",\r\n",
        "    metrics=[\"accuracy\"],\r\n",
        ")\r\n",
        "model.summary()"
      ],
      "execution_count": null,
      "outputs": [
        {
          "output_type": "stream",
          "text": [
            "Model: \"model_1\"\n",
            "__________________________________________________________________________________________________\n",
            "Layer (type)                    Output Shape         Param #     Connected to                     \n",
            "==================================================================================================\n",
            "input_ids (InputLayer)          [(None, 128)]        0                                            \n",
            "__________________________________________________________________________________________________\n",
            "attention_masks (InputLayer)    [(None, 128)]        0                                            \n",
            "__________________________________________________________________________________________________\n",
            "token_type_ids (InputLayer)     [(None, 128)]        0                                            \n",
            "__________________________________________________________________________________________________\n",
            "tf_bert_model_1 (TFBertModel)   ((None, 128, 768), ( 109482240   input_ids[0][0]                  \n",
            "                                                                 attention_masks[0][0]            \n",
            "                                                                 token_type_ids[0][0]             \n",
            "__________________________________________________________________________________________________\n",
            "bidirectional_1 (Bidirectional) (None, 128, 128)     426496      tf_bert_model_1[0][0]            \n",
            "__________________________________________________________________________________________________\n",
            "global_average_pooling1d_1 (Glo (None, 128)          0           bidirectional_1[0][0]            \n",
            "__________________________________________________________________________________________________\n",
            "global_max_pooling1d_1 (GlobalM (None, 128)          0           bidirectional_1[0][0]            \n",
            "__________________________________________________________________________________________________\n",
            "concatenate_1 (Concatenate)     (None, 256)          0           global_average_pooling1d_1[0][0] \n",
            "                                                                 global_max_pooling1d_1[0][0]     \n",
            "__________________________________________________________________________________________________\n",
            "dropout_75 (Dropout)            (None, 256)          0           concatenate_1[0][0]              \n",
            "__________________________________________________________________________________________________\n",
            "dense_1 (Dense)                 (None, 2)            514         dropout_75[0][0]                 \n",
            "==================================================================================================\n",
            "Total params: 109,909,250\n",
            "Trainable params: 109,909,250\n",
            "Non-trainable params: 0\n",
            "__________________________________________________________________________________________________\n",
            "time: 37.6 ms (started: 2021-02-13 14:39:32 +00:00)\n"
          ],
          "name": "stdout"
        }
      ]
    },
    {
      "cell_type": "markdown",
      "metadata": {
        "id": "kVmnu85R4sE8"
      },
      "source": [
        "Training the entire model end-to-end"
      ]
    },
    {
      "cell_type": "code",
      "metadata": {
        "colab": {
          "background_save": true,
          "base_uri": "https://localhost:8080/"
        },
        "id": "Lc26M2Yt2YD1",
        "outputId": "215c4a12-1354-4b19-c385-9dfab7e5aa4e"
      },
      "source": [
        "history = model.fit(\r\n",
        "    train_data,\r\n",
        "    validation_data=valid_data,\r\n",
        "    epochs=epochs,\r\n",
        "    use_multiprocessing=True,\r\n",
        "    workers=-1,\r\n",
        ")\r\n",
        "\r\n",
        "model.save('Semantic_Similarity_Fine_tuned_Bert_Quoras_Questions')"
      ],
      "execution_count": null,
      "outputs": [
        {
          "output_type": "stream",
          "text": [
            "Epoch 1/2\n",
            "WARNING:tensorflow:Gradients do not exist for variables ['tf_bert_model_1/bert/pooler/dense/kernel:0', 'tf_bert_model_1/bert/pooler/dense/bias:0'] when minimizing the loss.\n",
            "WARNING:tensorflow:Gradients do not exist for variables ['tf_bert_model_1/bert/pooler/dense/kernel:0', 'tf_bert_model_1/bert/pooler/dense/bias:0'] when minimizing the loss.\n",
            "7580/7580 [==============================] - 6910s 909ms/step - loss: 0.3077 - accuracy: 0.8621 - val_loss: 0.2637 - val_accuracy: 0.8856\n",
            "Epoch 2/2\n",
            "7580/7580 [==============================] - 6891s 909ms/step - loss: 0.2244 - accuracy: 0.9054 - val_loss: 0.2445 - val_accuracy: 0.8967\n",
            "time: 3h 50min (started: 2021-02-13 14:39:32 +00:00)\n"
          ],
          "name": "stdout"
        }
      ]
    },
    {
      "cell_type": "code",
      "metadata": {
        "colab": {
          "background_save": true,
          "base_uri": "https://localhost:8080/"
        },
        "id": "HsON9GsPKPs4",
        "outputId": "ef93645f-d418-4353-f0d1-b321aaff9b9c"
      },
      "source": [
        "test_data = BertSemanticDataGenerator(\r\n",
        "    test[[\"question1\", \"question2\"]].values.astype(\"str\"),\r\n",
        "    y_test,\r\n",
        "    batch_size=batch_size,\r\n",
        "    shuffle=False,\r\n",
        ")\r\n",
        "model.evaluate(test_data, verbose=1)"
      ],
      "execution_count": null,
      "outputs": [
        {
          "output_type": "stream",
          "text": [
            "2526/2526 [==============================] - 697s 276ms/step - loss: 0.2486 - accuracy: 0.8950\n"
          ],
          "name": "stdout"
        },
        {
          "output_type": "execute_result",
          "data": {
            "text/plain": [
              "[0.24856306612491608, 0.8949549794197083]"
            ]
          },
          "metadata": {
            "tags": []
          },
          "execution_count": 0
        },
        {
          "output_type": "stream",
          "text": [
            "time: 11min 37s (started: 2021-02-13 18:29:32 +00:00)\n"
          ],
          "name": "stdout"
        }
      ]
    },
    {
      "cell_type": "markdown",
      "metadata": {
        "id": "BKGpaxnz6Mhk"
      },
      "source": [
        "Inference on custom sentences"
      ]
    },
    {
      "cell_type": "code",
      "metadata": {
        "colab": {
          "background_save": true
        },
        "id": "FJPXlnWiLiDf",
        "outputId": "30f5d5e4-e42a-4b1e-acb4-fc9994b8941b"
      },
      "source": [
        "labels = [1, 0]"
      ],
      "execution_count": null,
      "outputs": [
        {
          "output_type": "stream",
          "text": [
            "time: 766 µs (started: 2021-02-13 18:41:10 +00:00)\n"
          ],
          "name": "stdout"
        }
      ]
    },
    {
      "cell_type": "code",
      "metadata": {
        "colab": {
          "background_save": true
        },
        "id": "yN56c6-4LV2d",
        "outputId": "37e59e67-507e-44b2-e946-fe7b6c7f1e5e"
      },
      "source": [
        "def check_similarity(sentence1, sentence2):\r\n",
        "    sentence_pairs = np.array([[str(sentence1), str(sentence2)]])\r\n",
        "    test_data = BertSemanticDataGenerator(\r\n",
        "        sentence_pairs, labels=None, batch_size=1, shuffle=False, include_targets=False,\r\n",
        "    )\r\n",
        "\r\n",
        "    proba = model.predict(test_data)[0]\r\n",
        "    idx = np.argmax(proba)\r\n",
        "    proba = f\"{proba[idx]: .2f}%\"\r\n",
        "    pred = labels[idx]\r\n",
        "    if pred == 1:\r\n",
        "      label = \"Similar\"\r\n",
        "    else:\r\n",
        "      label = \"Not Similar\"\r\n",
        "    print(\"Prediction: {0}\\nProbability: {1}\\n\\n\".format(label, proba))"
      ],
      "execution_count": null,
      "outputs": [
        {
          "output_type": "stream",
          "text": [
            "time: 8.85 ms (started: 2021-02-13 18:41:10 +00:00)\n"
          ],
          "name": "stdout"
        }
      ]
    },
    {
      "cell_type": "code",
      "metadata": {
        "colab": {
          "background_save": true
        },
        "id": "ak4lB-uZLYqB",
        "outputId": "d7ae6b5c-d82e-41d6-965a-3663dbf6dfc2"
      },
      "source": [
        "sentence1 = \"Two women are observing something together.\"\r\n",
        "sentence2 = \"Two women are standing with their eyes closed.\"\r\n",
        "check_similarity(sentence1, sentence2)"
      ],
      "execution_count": null,
      "outputs": [
        {
          "output_type": "stream",
          "text": [
            "Prediction: Not Similar\n",
            "Probability:  0.79%\n",
            "\n",
            "\n",
            "time: 4.14 s (started: 2021-02-13 18:41:10 +00:00)\n"
          ],
          "name": "stdout"
        }
      ]
    },
    {
      "cell_type": "code",
      "metadata": {
        "colab": {
          "background_save": true
        },
        "id": "ma1anH7wQp64",
        "outputId": "97eb2b84-de31-47a3-a57f-564a003f720b"
      },
      "source": [
        "sentence1 = \"A soccer game with multiple males playing\"\r\n",
        "sentence2 = \"Some men are playing a football\"\r\n",
        "check_similarity(sentence1, sentence2)"
      ],
      "execution_count": null,
      "outputs": [
        {
          "output_type": "stream",
          "text": [
            "Prediction: Similar\n",
            "Probability:  0.99%\n",
            "\n",
            "\n",
            "time: 221 ms (started: 2021-02-13 18:41:15 +00:00)\n"
          ],
          "name": "stdout"
        }
      ]
    },
    {
      "cell_type": "code",
      "metadata": {
        "colab": {
          "background_save": true
        },
        "id": "qccKuSDdMBgE",
        "outputId": "314326b4-8a6d-4207-a216-317de265ebaf"
      },
      "source": [
        "sentence1 = \"How old are you?\"\r\n",
        "sentence2 = \"What is your age?\"\r\n",
        "check_similarity(sentence1, sentence2)"
      ],
      "execution_count": null,
      "outputs": [
        {
          "output_type": "stream",
          "text": [
            "Prediction: Similar\n",
            "Probability:  0.72%\n",
            "\n",
            "\n",
            "time: 247 ms (started: 2021-02-13 18:41:15 +00:00)\n"
          ],
          "name": "stdout"
        }
      ]
    },
    {
      "cell_type": "code",
      "metadata": {
        "colab": {
          "background_save": true
        },
        "id": "6xU94UdUOVmo",
        "outputId": "9a0f0249-d7be-4ee4-bff5-8a73f95dbe00"
      },
      "source": [
        "sentence1 = \"Does that dog belong to you?\"\r\n",
        "sentence2 = \"Is that dog yours?\"\r\n",
        "check_similarity(sentence1, sentence2)"
      ],
      "execution_count": null,
      "outputs": [
        {
          "output_type": "stream",
          "text": [
            "Prediction: Similar\n",
            "Probability:  0.92%\n",
            "\n",
            "\n",
            "time: 237 ms (started: 2021-02-13 18:41:15 +00:00)\n"
          ],
          "name": "stdout"
        }
      ]
    },
    {
      "cell_type": "code",
      "metadata": {
        "colab": {
          "background_save": true
        },
        "id": "OdHsV6aGQxU6",
        "outputId": "d264df2f-ee6f-4de1-ac14-ca5629b27769"
      },
      "source": [
        "sentence1 = \"Astrology: I am a Capricorn Sun Cap moon and cap rising...what does that say about me?\"\r\n",
        "sentence2 = \"I'm a triple Capricorn (Sun, Moon and ascendant in Capricorn) What does this say about me?\"\r\n",
        "check_similarity(sentence1, sentence2)"
      ],
      "execution_count": null,
      "outputs": [
        {
          "output_type": "stream",
          "text": [
            "Prediction: Similar\n",
            "Probability:  0.62%\n",
            "\n",
            "\n",
            "time: 250 ms (started: 2021-02-13 18:41:15 +00:00)\n"
          ],
          "name": "stdout"
        }
      ]
    },
    {
      "cell_type": "markdown",
      "metadata": {
        "id": "1UAtLy7b6Gke"
      },
      "source": [
        "Saving and loading the model using tensorflow"
      ]
    },
    {
      "cell_type": "code",
      "metadata": {
        "id": "nu86OW2vf2Zg"
      },
      "source": [
        "model.save('Semantic_Similarity_Fine_tuned_Bert_Quoras_Questions')"
      ],
      "execution_count": null,
      "outputs": []
    },
    {
      "cell_type": "code",
      "metadata": {
        "colab": {
          "background_save": true
        },
        "id": "uDKCDGxSD3tD"
      },
      "source": [
        "from tensorflow import keras\r\n",
        "model = keras.models.load_model('Semantic_Similarity_Fine_tuned_Bert_Quoras_Questions')"
      ],
      "execution_count": null,
      "outputs": []
    },
    {
      "cell_type": "code",
      "metadata": {
        "colab": {
          "background_save": true
        },
        "id": "B8tyH16KD6s7"
      },
      "source": [
        "model"
      ],
      "execution_count": null,
      "outputs": []
    },
    {
      "cell_type": "markdown",
      "metadata": {
        "id": "1eZCe5_UeUOS"
      },
      "source": [
        "Save in pickle format"
      ]
    },
    {
      "cell_type": "code",
      "metadata": {
        "id": "I41DMi1-eP8X"
      },
      "source": [
        "with open('sts_bert.pkl', 'wb') as f:\r\n",
        "    pickle.dump(model, f)"
      ],
      "execution_count": null,
      "outputs": []
    },
    {
      "cell_type": "code",
      "metadata": {
        "id": "mZ7WtWcEed2y"
      },
      "source": [
        "with open('sts_bert.pkl', 'rb') as f:\r\n",
        "    semantic_similarity_bert = pickle.load(f)"
      ],
      "execution_count": null,
      "outputs": []
    },
    {
      "cell_type": "code",
      "metadata": {
        "id": "_75as8-Ier3b"
      },
      "source": [
        ""
      ],
      "execution_count": null,
      "outputs": []
    }
  ]
}